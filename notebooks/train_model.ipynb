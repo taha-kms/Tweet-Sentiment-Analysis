{
 "cells": [
  {
   "cell_type": "code",
   "execution_count": null,
   "id": "df7dd08b",
   "metadata": {},
   "outputs": [],
   "source": [
    "import torch.nn as nn\n",
    "from transformers import BertModel\n",
    "import torch\n",
    "from transformers import AdamW\n",
    "from tqdm import tqdm\n",
    "from torch.utils.data import TensorDataset, DataLoader, RandomSampler"
   ]
  },
  {
   "cell_type": "code",
   "execution_count": null,
   "id": "eed53814",
   "metadata": {},
   "outputs": [],
   "source": [
    "# Load tokenized dataset\n",
    "data = torch.load('../models/tokenized_dataset.pt')\n",
    "\n",
    "input_ids = data['input_ids']\n",
    "attention_masks = data['attention_masks']\n",
    "features_tensor = data['features_tensor']\n",
    "labels = data['labels']"
   ]
  },
  {
   "cell_type": "code",
   "execution_count": null,
   "id": "bab6a61e",
   "metadata": {},
   "outputs": [],
   "source": [
    "from torch.utils.data import random_split\n",
    "from torch.utils.data import DataLoader, RandomSampler, SequentialSampler\n",
    "\n",
    "\n",
    "dataset = TensorDataset(input_ids, attention_masks, features_tensor, labels)"
   ]
  },
  {
   "cell_type": "code",
   "execution_count": null,
   "id": "6a3e2157",
   "metadata": {},
   "outputs": [],
   "source": [
    "# Split the dataset into training and validation sets\n",
    "# 80% training, 20% validation\n",
    "\n",
    "val_size = int(0.2 * len(data))\n",
    "train_size = len(data) - val_size\n",
    "\n",
    "train_dataset, val_dataset = random_split(data, [train_size, val_size])\n",
    "\n"
   ]
  },
  {
   "cell_type": "code",
   "execution_count": null,
   "id": "3633e255",
   "metadata": {},
   "outputs": [],
   "source": [
    "# create dataloaders\n",
    "\n",
    "batch_size = 16\n",
    "\n",
    "train_dataloader = DataLoader(train_dataset, sampler=RandomSampler(train_dataset), batch_size=batch_size)\n",
    "val_dataloader = DataLoader(val_dataset, sampler=SequentialSampler(val_dataset), batch_size=batch_size)\n",
    "\n"
   ]
  },
  {
   "cell_type": "markdown",
   "id": "7eda8bf0",
   "metadata": {},
   "source": [
    "### Define the BERT + Tabular Model"
   ]
  },
  {
   "cell_type": "code",
   "execution_count": null,
   "id": "775c5b34",
   "metadata": {},
   "outputs": [],
   "source": [
    "\n",
    "class BERTWithTabular(nn.Module):\n",
    "    def __init__(self):\n",
    "        super(BERTWithTabular, self).__init__()\n",
    "        self.bert = BertModel.from_pretrained('bert-base-uncased')\n",
    "        self.tabular_layer = nn.Linear(3, 32)  # 3 features: hour, weekday, emoji\n",
    "        self.dropout = nn.Dropout(0.3)\n",
    "        self.classifier = nn.Linear(768 + 32, 2)  # BERT output + tabular\n",
    "\n",
    "    def forward(self, input_ids, attention_mask, tabular_input):\n",
    "        bert_out = self.bert(input_ids=input_ids, attention_mask=attention_mask)\n",
    "        pooled_output = bert_out.pooler_output\n",
    "        tabular_output = self.tabular_layer(tabular_input)\n",
    "        combined = torch.cat((pooled_output, tabular_output), dim=1)\n",
    "        combined = self.dropout(combined)\n",
    "        logits = self.classifier(combined)\n",
    "        return logits"
   ]
  },
  {
   "cell_type": "markdown",
   "id": "e4391630",
   "metadata": {},
   "source": [
    "### Define Optimizer, Loss, Device"
   ]
  },
  {
   "cell_type": "code",
   "execution_count": null,
   "id": "299ba90a",
   "metadata": {},
   "outputs": [],
   "source": [
    "import torch\n",
    "\n",
    "print(\"CUDA Available:\", torch.cuda.is_available())\n",
    "print(\"Device Name:\", torch.cuda.get_device_name(0) if torch.cuda.is_available() else \"No GPU detected\")\n",
    "print(\"Torch CUDA Version:\", torch.version.cuda)\n",
    "print(torch.__version__)\n",
    "\n"
   ]
  },
  {
   "cell_type": "code",
   "execution_count": null,
   "id": "ff4836a1",
   "metadata": {},
   "outputs": [],
   "source": [
    "epochs = 3  # Or whatever you want\n",
    "device = torch.device(\"cuda\" if torch.cuda.is_available() else \"cpu\")\n",
    "\n",
    "model = BERTWithTabular().to(device)\n",
    "optimizer = AdamW(model.parameters(), lr=2e-5)\n",
    "loss_fn = nn.CrossEntropyLoss()"
   ]
  },
  {
   "cell_type": "code",
   "execution_count": null,
   "id": "854c0540",
   "metadata": {},
   "outputs": [],
   "source": [
    "model.train()\n",
    "for epoch in range(epochs):\n",
    "    total_loss = 0\n",
    "    for batch in tqdm(train_dataloader):\n",
    "        input_ids, attention_mask, tabular_features, labels = [b.to(device) for b in batch]\n",
    "\n",
    "        outputs = model(input_ids, attention_mask, tabular_features)\n",
    "        loss = loss_fn(outputs, labels)\n",
    "\n",
    "        loss.backward()\n",
    "        optimizer.step()\n",
    "        optimizer.zero_grad()\n",
    "        total_loss += loss.item()\n",
    "\n",
    "    print(f\"Epoch {epoch+1} | Loss: {total_loss/len(train_dataloader):.4f}\")\n"
   ]
  },
  {
   "cell_type": "code",
   "execution_count": null,
   "id": "434344d8",
   "metadata": {},
   "outputs": [],
   "source": [
    "from sklearn.metrics import classification_report, confusion_matrix\n",
    "\n",
    "model.eval()\n",
    "all_preds, all_labels = [], []\n",
    "\n",
    "with torch.no_grad():\n",
    "    for batch in val_dataloader:\n",
    "        input_ids, attention_mask, tabular_features, labels = [b.to(device) for b in batch]\n",
    "        logits = model(input_ids, attention_mask, tabular_features)\n",
    "        preds = torch.argmax(logits, dim=1)\n",
    "        all_preds.extend(preds.cpu().numpy())\n",
    "        all_labels.extend(labels.cpu().numpy())\n",
    "\n",
    "print(classification_report(all_labels, all_preds))\n",
    "print(confusion_matrix(all_labels, all_preds))\n"
   ]
  },
  {
   "cell_type": "code",
   "execution_count": null,
   "id": "dcd86e56",
   "metadata": {},
   "outputs": [],
   "source": [
    "torch.save(model.state_dict(), 'bert_with_tabular.pt')\n"
   ]
  }
 ],
 "metadata": {
  "kernelspec": {
   "display_name": "Python 3",
   "language": "python",
   "name": "python3"
  },
  "language_info": {
   "codemirror_mode": {
    "name": "ipython",
    "version": 3
   },
   "file_extension": ".py",
   "mimetype": "text/x-python",
   "name": "python",
   "nbconvert_exporter": "python",
   "pygments_lexer": "ipython3",
   "version": "3.9.13"
  }
 },
 "nbformat": 4,
 "nbformat_minor": 5
}
