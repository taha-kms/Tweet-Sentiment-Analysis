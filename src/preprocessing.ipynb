{
 "cells": [
  {
   "cell_type": "code",
   "execution_count": 1,
   "id": "e5744b50",
   "metadata": {},
   "outputs": [
    {
     "name": "stderr",
     "output_type": "stream",
     "text": [
      "c:\\Users\\taha_kms\\AppData\\Local\\Programs\\Python\\Python39\\lib\\site-packages\\tqdm\\auto.py:21: TqdmWarning: IProgress not found. Please update jupyter and ipywidgets. See https://ipywidgets.readthedocs.io/en/stable/user_install.html\n",
      "  from .autonotebook import tqdm as notebook_tqdm\n"
     ]
    }
   ],
   "source": [
    "import pandas as pd\n",
    "import re\n",
    "from transformers import BertTokenizer\n",
    "from datetime import datetime\n",
    "import emoji\n",
    "from tqdm import tqdm\n",
    "import torch\n",
    "from torch.utils.data import TensorDataset, DataLoader, RandomSampler"
   ]
  },
  {
   "cell_type": "markdown",
   "id": "9a9600fe",
   "metadata": {},
   "source": [
    "### Load the tokenizer and Dataset"
   ]
  },
  {
   "cell_type": "code",
   "execution_count": 2,
   "id": "ee36692b",
   "metadata": {},
   "outputs": [
    {
     "name": "stderr",
     "output_type": "stream",
     "text": [
      "c:\\Users\\taha_kms\\AppData\\Local\\Programs\\Python\\Python39\\lib\\site-packages\\transformers\\tokenization_utils_base.py:1601: FutureWarning: `clean_up_tokenization_spaces` was not set. It will be set to `True` by default. This behavior will be depracted in transformers v4.45, and will be then set to `False` by default. For more details check this issue: https://github.com/huggingface/transformers/issues/31884\n",
      "  warnings.warn(\n"
     ]
    }
   ],
   "source": [
    "df = pd.read_csv('../Dataset/KaggleDataset.csv')\n",
    "tokenizer = BertTokenizer.from_pretrained('bert-base-uncased')"
   ]
  },
  {
   "cell_type": "markdown",
   "id": "a7911779",
   "metadata": {},
   "source": [
    "#### Minimal Text Cleaning"
   ]
  },
  {
   "cell_type": "code",
   "execution_count": 3,
   "id": "ababb028",
   "metadata": {},
   "outputs": [],
   "source": [
    "def clean_text(text):\n",
    "    text = re.sub(r\"http\\S+|www\\S+\", '', text)  # Remove URLs\n",
    "    text = re.sub(r\"@\\w+\", '', text)            # Remove mentions\n",
    "    text = re.sub(r\"#\", '', text)               # Remove hashtags symbol, keep content\n",
    "    text = re.sub(r'\\s+', ' ', text).strip()    # Normalize whitespace\n",
    "    return text\n"
   ]
  },
  {
   "cell_type": "markdown",
   "id": "93898e60",
   "metadata": {},
   "source": [
    "### Emojis Extraction"
   ]
  },
  {
   "cell_type": "code",
   "execution_count": 4,
   "id": "b3f18973",
   "metadata": {},
   "outputs": [],
   "source": [
    "def extract_emojis(text):\n",
    "    return ''.join(c for c in text if c in emoji.EMOJI_DATA)\n"
   ]
  },
  {
   "cell_type": "code",
   "execution_count": 5,
   "id": "67f1aada",
   "metadata": {},
   "outputs": [],
   "source": [
    "def get_emoji_score(emojis):\n",
    "    emoji_sentiment = {\n",
    "        '😂': 1, '😍': 1, '😊': 1, '😢': -1, '😡': -1, '😭': -1,\n",
    "        '👍': 1, '💔': -1, '😃': 1, '😤': -1, '😞': -1\n",
    "    }\n",
    "    return sum(emoji_sentiment.get(e, 0) for e in emojis)"
   ]
  },
  {
   "cell_type": "code",
   "execution_count": 6,
   "id": "4e878815",
   "metadata": {},
   "outputs": [
    {
     "data": {
      "text/plain": [
       "0          0\n",
       "1          0\n",
       "2          0\n",
       "3          0\n",
       "4          0\n",
       "          ..\n",
       "1599995    1\n",
       "1599996    1\n",
       "1599997    1\n",
       "1599998    1\n",
       "1599999    1\n",
       "Name: sentiment, Length: 1600000, dtype: int64"
      ]
     },
     "execution_count": 6,
     "metadata": {},
     "output_type": "execute_result"
    }
   ],
   "source": [
    "# Apply basic cleaning\n",
    "df['clean_text'] = df['tweet'].apply(clean_text)\n",
    "df['emojis'] = df['tweet'].apply(extract_emojis)\n",
    "df['emoji_sentiment'] = df['emojis'].apply(get_emoji_score)\n",
    "df['sentiment'].map({0: 0, 4: 1})"
   ]
  },
  {
   "cell_type": "markdown",
   "id": "8b0274a2",
   "metadata": {},
   "source": [
    "### Time Feature Extraction"
   ]
  },
  {
   "cell_type": "code",
   "execution_count": 7,
   "id": "0c08f5eb",
   "metadata": {},
   "outputs": [
    {
     "name": "stderr",
     "output_type": "stream",
     "text": [
      "C:\\Users\\taha_kms\\AppData\\Local\\Temp\\ipykernel_19360\\933695973.py:1: FutureWarning: Parsed string \"Mon Apr 06 22:19:45 PDT 2009\" included an un-recognized timezone \"PDT\". Dropping unrecognized timezones is deprecated; in a future version this will raise. Instead pass the string without the timezone, then use .tz_localize to convert to a recognized timezone.\n",
      "  df['created_at'] = pd.to_datetime(df['date'])\n"
     ]
    }
   ],
   "source": [
    "df['created_at'] = pd.to_datetime(df['date'])\n",
    "\n",
    "df['year'] = df['created_at'].dt.year\n",
    "df['month'] = df['created_at'].dt.month\n",
    "df['weekday'] = df['created_at'].dt.weekday\n",
    "df['hour'] = df['created_at'].dt.hour\n"
   ]
  },
  {
   "cell_type": "code",
   "execution_count": 8,
   "id": "133dad60",
   "metadata": {},
   "outputs": [],
   "source": [
    "df['hour'] = df['created_at'].dt.hour\n",
    "df['weekday'] = df['created_at'].dt.weekday\n",
    "features = df[['hour', 'weekday', 'emoji_sentiment']].values\n",
    "features_tensor = torch.tensor(features, dtype=torch.float)"
   ]
  },
  {
   "cell_type": "markdown",
   "id": "25340198",
   "metadata": {},
   "source": [
    "\n",
    "## **Next Steps: Tokenization + DataLoader Setup**\n",
    "\n",
    "\n",
    "* `df['clean_text']` → tweets for BERT input\n",
    "* `features_tensor` → extra features (`hour`, `weekday`, `emoji_sentiment`)\n",
    "* `df['label']` → target labels (0 = negative, 1 = positive)\n",
    "\n",
    "\n"
   ]
  },
  {
   "cell_type": "code",
   "execution_count": 9,
   "id": "8a5e84b0",
   "metadata": {},
   "outputs": [
    {
     "name": "stderr",
     "output_type": "stream",
     "text": [
      "100%|██████████| 1600000/1600000 [08:04<00:00, 3302.86it/s]\n"
     ]
    }
   ],
   "source": [
    "input_ids = []\n",
    "attention_masks = []\n",
    "\n",
    "for text in tqdm(df['clean_text']):\n",
    "    encoded = tokenizer.encode_plus(\n",
    "        text,\n",
    "        add_special_tokens=True,\n",
    "        max_length=128,\n",
    "        padding='max_length',\n",
    "        truncation=True,\n",
    "        return_attention_mask=True,\n",
    "        return_tensors='pt'\n",
    "    )\n",
    "    input_ids.append(encoded['input_ids'][0])\n",
    "    attention_masks.append(encoded['attention_mask'][0])\n",
    "\n",
    "# Stack lists into tensors\n",
    "input_ids = torch.stack(input_ids)\n",
    "attention_masks = torch.stack(attention_masks)"
   ]
  },
  {
   "cell_type": "code",
   "execution_count": 10,
   "id": "6bf0c048",
   "metadata": {},
   "outputs": [],
   "source": [
    "labels = torch.tensor(df['sentiment'].values)\n"
   ]
  },
  {
   "cell_type": "code",
   "execution_count": 11,
   "id": "f241e07c",
   "metadata": {},
   "outputs": [],
   "source": [
    "dataset = TensorDataset(input_ids, attention_masks, features_tensor, labels)\n",
    "\n",
    "# Create DataLoader\n",
    "batch_size = 16\n",
    "dataloader = DataLoader(\n",
    "    dataset,\n",
    "    sampler=RandomSampler(dataset),\n",
    "    batch_size=batch_size\n",
    ")\n"
   ]
  },
  {
   "cell_type": "markdown",
   "id": "0961fc62",
   "metadata": {},
   "source": [
    "### save the data"
   ]
  },
  {
   "cell_type": "code",
   "execution_count": 12,
   "id": "f6ef2286",
   "metadata": {},
   "outputs": [],
   "source": [
    "# Save everything as a dictionary\n",
    "torch.save({\n",
    "    'input_ids': input_ids,\n",
    "    'attention_masks': attention_masks,\n",
    "    'features_tensor': features_tensor,\n",
    "    'labels': labels\n",
    "}, '../models/tokenized_dataset.pt')\n"
   ]
  },
  {
   "cell_type": "code",
   "execution_count": 13,
   "id": "5d751424",
   "metadata": {},
   "outputs": [],
   "source": [
    "df_to_save = df[['clean_text', 'emoji_sentiment', 'hour', 'weekday', 'sentiment']].copy()\n",
    "df_to_save.to_csv('../models/preprocessed_tweets.csv', index=False)\n"
   ]
  }
 ],
 "metadata": {
  "kernelspec": {
   "display_name": "Python 3",
   "language": "python",
   "name": "python3"
  },
  "language_info": {
   "codemirror_mode": {
    "name": "ipython",
    "version": 3
   },
   "file_extension": ".py",
   "mimetype": "text/x-python",
   "name": "python",
   "nbconvert_exporter": "python",
   "pygments_lexer": "ipython3",
   "version": "3.9.13"
  }
 },
 "nbformat": 4,
 "nbformat_minor": 5
}
