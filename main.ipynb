{
 "cells": [
  {
   "cell_type": "code",
   "execution_count": 1,
   "metadata": {},
   "outputs": [],
   "source": [
    "import pandas as pd\n",
    "import numpy as np\n",
    "import seaborn as sns\n",
    "from matplotlib import pyplot as plt"
   ]
  },
  {
   "cell_type": "code",
   "execution_count": 2,
   "metadata": {},
   "outputs": [
    {
     "name": "stderr",
     "output_type": "stream",
     "text": [
      "C:\\Users\\taha_kms\\AppData\\Local\\Temp\\ipykernel_8684\\1693559249.py:2: FutureWarning: The argument 'infer_datetime_format' is deprecated and will be removed in a future version. A strict version of it is now the default, see https://pandas.pydata.org/pdeps/0004-consistent-to-datetime-parsing.html. You can safely remove this argument.\n",
      "  kaggle_dataset = pd.read_csv('Dataset/kaggleDataset.csv', infer_datetime_format=True, parse_dates=[\"date\"])\n",
      "C:\\Users\\taha_kms\\AppData\\Local\\Temp\\ipykernel_8684\\1693559249.py:2: FutureWarning: Parsed string \"Mon Apr 06 22:19:45 PDT 2009\" included an un-recognized timezone \"PDT\". Dropping unrecognized timezones is deprecated; in a future version this will raise. Instead pass the string without the timezone, then use .tz_localize to convert to a recognized timezone.\n",
      "  kaggle_dataset = pd.read_csv('Dataset/kaggleDataset.csv', infer_datetime_format=True, parse_dates=[\"date\"])\n",
      "C:\\Users\\taha_kms\\AppData\\Local\\Temp\\ipykernel_8684\\1693559249.py:3: FutureWarning: The argument 'infer_datetime_format' is deprecated and will be removed in a future version. A strict version of it is now the default, see https://pandas.pydata.org/pdeps/0004-consistent-to-datetime-parsing.html. You can safely remove this argument.\n",
      "  polito_dataset = pd.read_csv('Dataset/politoDataset.csv', infer_datetime_format=True, parse_dates=[\"date\"])\n",
      "C:\\Users\\taha_kms\\AppData\\Local\\Temp\\ipykernel_8684\\1693559249.py:3: FutureWarning: Parsed string \"Mon Jun 01 13:44:19 PDT 2009\" included an un-recognized timezone \"PDT\". Dropping unrecognized timezones is deprecated; in a future version this will raise. Instead pass the string without the timezone, then use .tz_localize to convert to a recognized timezone.\n",
      "  polito_dataset = pd.read_csv('Dataset/politoDataset.csv', infer_datetime_format=True, parse_dates=[\"date\"])\n"
     ]
    }
   ],
   "source": [
    "# Step 1: Load both CSV files\n",
    "kaggle_dataset = pd.read_csv('Dataset/kaggleDataset.csv', infer_datetime_format=True, parse_dates=[\"date\"])\n",
    "polito_dataset = pd.read_csv('Dataset/politoDataset.csv', infer_datetime_format=True, parse_dates=[\"date\"])"
   ]
  },
  {
   "cell_type": "code",
   "execution_count": 3,
   "metadata": {},
   "outputs": [],
   "source": [
    "# Step 2: Replace id == 4 with 1 in df1\n",
    "kaggle_dataset['sentiment'] = kaggle_dataset['sentiment'].replace(4, 1)"
   ]
  },
  {
   "cell_type": "code",
   "execution_count": 4,
   "metadata": {},
   "outputs": [
    {
     "data": {
      "text/html": [
       "<div>\n",
       "<style scoped>\n",
       "    .dataframe tbody tr th:only-of-type {\n",
       "        vertical-align: middle;\n",
       "    }\n",
       "\n",
       "    .dataframe tbody tr th {\n",
       "        vertical-align: top;\n",
       "    }\n",
       "\n",
       "    .dataframe thead th {\n",
       "        text-align: right;\n",
       "    }\n",
       "</style>\n",
       "<table border=\"1\" class=\"dataframe\">\n",
       "  <thead>\n",
       "    <tr style=\"text-align: right;\">\n",
       "      <th></th>\n",
       "      <th>sentiment</th>\n",
       "      <th>ids</th>\n",
       "      <th>date</th>\n",
       "      <th>flag</th>\n",
       "      <th>user</th>\n",
       "      <th>tweet</th>\n",
       "    </tr>\n",
       "  </thead>\n",
       "  <tbody>\n",
       "    <tr>\n",
       "      <th>0</th>\n",
       "      <td>0</td>\n",
       "      <td>1467810369</td>\n",
       "      <td>2009-04-06 22:19:45</td>\n",
       "      <td>NO_QUERY</td>\n",
       "      <td>_TheSpecialOne_</td>\n",
       "      <td>@switchfoot http://twitpic.com/2y1zl - Awww, t...</td>\n",
       "    </tr>\n",
       "    <tr>\n",
       "      <th>1</th>\n",
       "      <td>0</td>\n",
       "      <td>1467810672</td>\n",
       "      <td>2009-04-06 22:19:49</td>\n",
       "      <td>NO_QUERY</td>\n",
       "      <td>scotthamilton</td>\n",
       "      <td>is upset that he can't update his Facebook by ...</td>\n",
       "    </tr>\n",
       "    <tr>\n",
       "      <th>2</th>\n",
       "      <td>0</td>\n",
       "      <td>1467810917</td>\n",
       "      <td>2009-04-06 22:19:53</td>\n",
       "      <td>NO_QUERY</td>\n",
       "      <td>mattycus</td>\n",
       "      <td>@Kenichan I dived many times for the ball. Man...</td>\n",
       "    </tr>\n",
       "    <tr>\n",
       "      <th>3</th>\n",
       "      <td>0</td>\n",
       "      <td>1467811184</td>\n",
       "      <td>2009-04-06 22:19:57</td>\n",
       "      <td>NO_QUERY</td>\n",
       "      <td>ElleCTF</td>\n",
       "      <td>my whole body feels itchy and like its on fire</td>\n",
       "    </tr>\n",
       "    <tr>\n",
       "      <th>4</th>\n",
       "      <td>0</td>\n",
       "      <td>1467811193</td>\n",
       "      <td>2009-04-06 22:19:57</td>\n",
       "      <td>NO_QUERY</td>\n",
       "      <td>Karoli</td>\n",
       "      <td>@nationwideclass no, it's not behaving at all....</td>\n",
       "    </tr>\n",
       "  </tbody>\n",
       "</table>\n",
       "</div>"
      ],
      "text/plain": [
       "   sentiment         ids                date      flag             user  \\\n",
       "0          0  1467810369 2009-04-06 22:19:45  NO_QUERY  _TheSpecialOne_   \n",
       "1          0  1467810672 2009-04-06 22:19:49  NO_QUERY    scotthamilton   \n",
       "2          0  1467810917 2009-04-06 22:19:53  NO_QUERY         mattycus   \n",
       "3          0  1467811184 2009-04-06 22:19:57  NO_QUERY          ElleCTF   \n",
       "4          0  1467811193 2009-04-06 22:19:57  NO_QUERY           Karoli   \n",
       "\n",
       "                                               tweet  \n",
       "0  @switchfoot http://twitpic.com/2y1zl - Awww, t...  \n",
       "1  is upset that he can't update his Facebook by ...  \n",
       "2  @Kenichan I dived many times for the ball. Man...  \n",
       "3    my whole body feels itchy and like its on fire   \n",
       "4  @nationwideclass no, it's not behaving at all....  "
      ]
     },
     "execution_count": 4,
     "metadata": {},
     "output_type": "execute_result"
    }
   ],
   "source": [
    "kaggle_dataset.head()"
   ]
  },
  {
   "cell_type": "code",
   "execution_count": 5,
   "metadata": {},
   "outputs": [],
   "source": [
    "polito_dataset.rename(columns={'sent_lable': 'sentiment'}, inplace=True)\n",
    "kaggle_dataset.rename(columns={'tweet': 'text'}, inplace=True)"
   ]
  },
  {
   "cell_type": "code",
   "execution_count": 6,
   "metadata": {},
   "outputs": [
    {
     "data": {
      "text/plain": [
       "(Index(['sentiment', 'ids', 'date', 'flag', 'user', 'text'], dtype='object'),\n",
       " Index(['sentiment', 'ids', 'date', 'flag', 'user', 'text'], dtype='object'))"
      ]
     },
     "execution_count": 6,
     "metadata": {},
     "output_type": "execute_result"
    }
   ],
   "source": [
    "kaggle_dataset.columns, polito_dataset.columns"
   ]
  },
  {
   "cell_type": "code",
   "execution_count": 7,
   "metadata": {},
   "outputs": [],
   "source": [
    "# Step 3: Concatenate the two DataFrames\n",
    "merged_df = pd.concat([polito_dataset, kaggle_dataset], ignore_index=True)\n",
    "\n",
    "# Step 4: Save the result to a new CSV\n",
    "merged_df.to_csv(\"Dataset/merged_output.csv\", index=False)"
   ]
  },
  {
   "cell_type": "markdown",
   "metadata": {},
   "source": [
    "### 1. Data Exploration\n"
   ]
  },
  {
   "cell_type": "code",
   "execution_count": 8,
   "metadata": {},
   "outputs": [
    {
     "name": "stderr",
     "output_type": "stream",
     "text": [
      "C:\\Users\\taha_kms\\AppData\\Local\\Temp\\ipykernel_8684\\3187499141.py:1: FutureWarning: The argument 'infer_datetime_format' is deprecated and will be removed in a future version. A strict version of it is now the default, see https://pandas.pydata.org/pdeps/0004-consistent-to-datetime-parsing.html. You can safely remove this argument.\n",
      "  merged_df = pd.read_csv(\"Dataset/merged_output.csv\", infer_datetime_format=True, parse_dates=[\"date\"])\n"
     ]
    }
   ],
   "source": [
    "merged_df = pd.read_csv(\"Dataset/merged_output.csv\", infer_datetime_format=True, parse_dates=[\"date\"])"
   ]
  },
  {
   "cell_type": "code",
   "execution_count": 9,
   "metadata": {},
   "outputs": [
    {
     "data": {
      "text/plain": [
       "(array([1, 0], dtype=int64), (1779995, 6))"
      ]
     },
     "execution_count": 9,
     "metadata": {},
     "output_type": "execute_result"
    }
   ],
   "source": [
    "merged_df['sentiment'].unique(), merged_df.shape"
   ]
  },
  {
   "cell_type": "code",
   "execution_count": 10,
   "metadata": {},
   "outputs": [
    {
     "name": "stdout",
     "output_type": "stream",
     "text": [
      "<class 'pandas.core.frame.DataFrame'>\n",
      "RangeIndex: 1779995 entries, 0 to 1779994\n",
      "Data columns (total 6 columns):\n",
      " #   Column     Dtype         \n",
      "---  ------     -----         \n",
      " 0   sentiment  int64         \n",
      " 1   ids        int64         \n",
      " 2   date       datetime64[ns]\n",
      " 3   flag       object        \n",
      " 4   user       object        \n",
      " 5   text       object        \n",
      "dtypes: datetime64[ns](1), int64(2), object(3)\n",
      "memory usage: 81.5+ MB\n"
     ]
    }
   ],
   "source": [
    "merged_df.info()"
   ]
  },
  {
   "cell_type": "code",
   "execution_count": 11,
   "metadata": {},
   "outputs": [
    {
     "data": {
      "text/html": [
       "<div>\n",
       "<style scoped>\n",
       "    .dataframe tbody tr th:only-of-type {\n",
       "        vertical-align: middle;\n",
       "    }\n",
       "\n",
       "    .dataframe tbody tr th {\n",
       "        vertical-align: top;\n",
       "    }\n",
       "\n",
       "    .dataframe thead th {\n",
       "        text-align: right;\n",
       "    }\n",
       "</style>\n",
       "<table border=\"1\" class=\"dataframe\">\n",
       "  <thead>\n",
       "    <tr style=\"text-align: right;\">\n",
       "      <th></th>\n",
       "      <th>sentiment</th>\n",
       "      <th>ids</th>\n",
       "      <th>date</th>\n",
       "      <th>flag</th>\n",
       "      <th>user</th>\n",
       "      <th>text</th>\n",
       "      <th>hour</th>\n",
       "      <th>weekday</th>\n",
       "      <th>month</th>\n",
       "      <th>day</th>\n",
       "    </tr>\n",
       "  </thead>\n",
       "  <tbody>\n",
       "    <tr>\n",
       "      <th>0</th>\n",
       "      <td>1</td>\n",
       "      <td>1995592655</td>\n",
       "      <td>2009-06-01 13:44:19</td>\n",
       "      <td>NO_QUERY</td>\n",
       "      <td>carlincomm</td>\n",
       "      <td>@krclaypool Sure  I'd be glad to! http://bit.l...</td>\n",
       "      <td>13</td>\n",
       "      <td>0</td>\n",
       "      <td>6</td>\n",
       "      <td>1</td>\n",
       "    </tr>\n",
       "    <tr>\n",
       "      <th>1</th>\n",
       "      <td>0</td>\n",
       "      <td>1992268865</td>\n",
       "      <td>2009-06-01 08:28:41</td>\n",
       "      <td>NO_QUERY</td>\n",
       "      <td>FootyGirl88</td>\n",
       "      <td>I still can't find my phone, I NEED that phone...</td>\n",
       "      <td>8</td>\n",
       "      <td>0</td>\n",
       "      <td>6</td>\n",
       "      <td>1</td>\n",
       "    </tr>\n",
       "    <tr>\n",
       "      <th>2</th>\n",
       "      <td>1</td>\n",
       "      <td>2047074239</td>\n",
       "      <td>2009-06-05 13:06:42</td>\n",
       "      <td>NO_QUERY</td>\n",
       "      <td>fryfan20</td>\n",
       "      <td>Have taken a shower, didn't calm but did clean...</td>\n",
       "      <td>13</td>\n",
       "      <td>4</td>\n",
       "      <td>6</td>\n",
       "      <td>5</td>\n",
       "    </tr>\n",
       "    <tr>\n",
       "      <th>3</th>\n",
       "      <td>1</td>\n",
       "      <td>1976075552</td>\n",
       "      <td>2009-05-30 16:31:55</td>\n",
       "      <td>NO_QUERY</td>\n",
       "      <td>luvinmesomed</td>\n",
       "      <td>@JKDW4ever OMG!! those were great!!! I freakin...</td>\n",
       "      <td>16</td>\n",
       "      <td>5</td>\n",
       "      <td>5</td>\n",
       "      <td>30</td>\n",
       "    </tr>\n",
       "    <tr>\n",
       "      <th>4</th>\n",
       "      <td>0</td>\n",
       "      <td>1981978321</td>\n",
       "      <td>2009-05-31 10:16:44</td>\n",
       "      <td>NO_QUERY</td>\n",
       "      <td>babybunny1987</td>\n",
       "      <td>@EvoOba noooo chinese foot  it was closed.but ...</td>\n",
       "      <td>10</td>\n",
       "      <td>6</td>\n",
       "      <td>5</td>\n",
       "      <td>31</td>\n",
       "    </tr>\n",
       "  </tbody>\n",
       "</table>\n",
       "</div>"
      ],
      "text/plain": [
       "   sentiment         ids                date      flag           user  \\\n",
       "0          1  1995592655 2009-06-01 13:44:19  NO_QUERY     carlincomm   \n",
       "1          0  1992268865 2009-06-01 08:28:41  NO_QUERY    FootyGirl88   \n",
       "2          1  2047074239 2009-06-05 13:06:42  NO_QUERY       fryfan20   \n",
       "3          1  1976075552 2009-05-30 16:31:55  NO_QUERY   luvinmesomed   \n",
       "4          0  1981978321 2009-05-31 10:16:44  NO_QUERY  babybunny1987   \n",
       "\n",
       "                                                text  hour  weekday  month  \\\n",
       "0  @krclaypool Sure  I'd be glad to! http://bit.l...    13        0      6   \n",
       "1  I still can't find my phone, I NEED that phone...     8        0      6   \n",
       "2  Have taken a shower, didn't calm but did clean...    13        4      6   \n",
       "3  @JKDW4ever OMG!! those were great!!! I freakin...    16        5      5   \n",
       "4  @EvoOba noooo chinese foot  it was closed.but ...    10        6      5   \n",
       "\n",
       "   day  \n",
       "0    1  \n",
       "1    1  \n",
       "2    5  \n",
       "3   30  \n",
       "4   31  "
      ]
     },
     "execution_count": 11,
     "metadata": {},
     "output_type": "execute_result"
    }
   ],
   "source": [
    "# creation column of hour, weekday, month from date\n",
    "merged_df[\"hour\"] = merged_df[\"date\"].apply(lambda x: x.hour)\n",
    "merged_df[\"weekday\"] = merged_df[\"date\"].apply(lambda x: x.weekday())\n",
    "merged_df[\"month\"] = merged_df[\"date\"].apply(lambda x: x.month)\n",
    "merged_df[\"day\"] = merged_df[\"date\"].apply(lambda x: x.day)\n",
    "\n",
    "\n",
    "merged_df.head()"
   ]
  },
  {
   "cell_type": "code",
   "execution_count": 12,
   "metadata": {},
   "outputs": [
    {
     "data": {
      "text/plain": [
       "<matplotlib.legend.Legend at 0x297c3b38d90>"
      ]
     },
     "execution_count": 12,
     "metadata": {},
     "output_type": "execute_result"
    },
    {
     "data": {
      "image/png": "[encoded data removed]",
      "text/plain": [
       "<Figure size 800x1000 with 3 Axes>"
      ]
     },
     "metadata": {},
     "output_type": "display_data"
    }
   ],
   "source": [
    "import matplotlib.pyplot as plt\n",
    "import numpy as np\n",
    "\n",
    "fig, axs = plt.subplots(3, figsize=(8, 10))\n",
    "fig.tight_layout(pad=2)\n",
    "\n",
    "# Plot 1: Hour of Day\n",
    "axs[0].hist(\n",
    "    [merged_df[merged_df['sentiment'] == 1][\"hour\"], \n",
    "     merged_df[merged_df['sentiment'] == 0][\"hour\"]],\n",
    "    bins=np.arange(25) - 0.5,\n",
    "    label=['positive', 'negative'],\n",
    "    color=['seagreen', 'indianred']\n",
    ")\n",
    "\n",
    "axs[0].set_xticks(np.arange(0, 25, 4))\n",
    "axs[0].set_xlabel(\"Hour\")\n",
    "axs[0].set_ylabel(\"Tweet Count\")\n",
    "\n",
    "# Plot 2: Weekday\n",
    "axs[1].hist(\n",
    "    [merged_df[merged_df['sentiment'] == 1][\"weekday\"], \n",
    "     merged_df[merged_df['sentiment'] == 0][\"weekday\"]],\n",
    "    bins=np.arange(8) - 0.5,\n",
    "    label=['positive', 'negative'],\n",
    "    color=['seagreen', 'indianred']\n",
    ")\n",
    "\n",
    "axs[1].set_xticks(np.arange(7))\n",
    "axs[1].set_xticklabels([\"Mon\", \"Tue\", \"Wed\", \"Thu\", \"Fri\", \"Sat\", \"Sun\"])\n",
    "axs[1].set_xlabel(\"Day of Week\")\n",
    "axs[1].set_ylabel(\"Tweet Count\")\n",
    "\n",
    "# Plot 3: Month\n",
    "axs[2].hist(\n",
    "    [merged_df[merged_df['sentiment'] == 1][\"month\"], \n",
    "     merged_df[merged_df['sentiment'] == 0][\"month\"]],\n",
    "    bins=3,\n",
    "    label=['positive', 'negative'],\n",
    "    color=['seagreen', 'indianred']\n",
    ")\n",
    "\n",
    "axs[2].set_xticks([4.33, 5, 5.66])\n",
    "axs[2].set_xticklabels([\"April\", \"May\", \"June\"])\n",
    "axs[2].set_xlabel(\"Month\")\n",
    "axs[2].set_ylabel(\"Tweet Count\")\n",
    "axs[2].legend(loc='upper left')\n",
    "\n",
    "# Save figure\n",
    "# plt.savefig(\"img/DateDistributionHour.svg\")\n"
   ]
  },
  {
   "cell_type": "markdown",
   "metadata": {},
   "source": [
    "### 2. Data Preprocessing"
   ]
  },
  {
   "cell_type": "code",
   "execution_count": 34,
   "metadata": {},
   "outputs": [],
   "source": [
    "import re\n",
    "import emoji\n",
    "from transformers import AutoTokenizer\n",
    "import torch\n",
    "from transformers import AutoModelForSequenceClassification\n",
    "from sklearn.preprocessing import LabelEncoder\n",
    "from tqdm import tqdm"
   ]
  },
  {
   "cell_type": "markdown",
   "metadata": {},
   "source": [
    "#### 2.1 Clean text\n",
    "- remove URLS\n",
    "- remove @mentions\n",
    "- remove hashtags but keeping the word\n",
    "- remove non-ASCII charecters"
   ]
  },
  {
   "cell_type": "code",
   "execution_count": 14,
   "metadata": {},
   "outputs": [],
   "source": [
    "def preprocess_for_transformers(text):\n",
    "    text = text.lower()\n",
    "    text = re.sub(r'https?://\\S+', '', text)  # remove URLs\n",
    "    text = re.sub(r'@\\w+', '', text)  # remove @mentions\n",
    "    text = re.sub(r'#(\\w+)', r'\\1', text)  # remove # but keep the word\n",
    "    text = re.sub(r'\\s+', ' ', text).strip()\n",
    "    return text"
   ]
  },
  {
   "cell_type": "code",
   "execution_count": 15,
   "metadata": {},
   "outputs": [],
   "source": [
    "merged_df[\"clean_text\"] = merged_df[\"text\"].astype(str).apply(preprocess_for_transformers)"
   ]
  },
  {
   "cell_type": "code",
   "execution_count": 16,
   "metadata": {},
   "outputs": [
    {
     "data": {
      "text/plain": [
       "(1779995, 11)"
      ]
     },
     "execution_count": 16,
     "metadata": {},
     "output_type": "execute_result"
    }
   ],
   "source": [
    "merged_df.shape"
   ]
  },
  {
   "cell_type": "markdown",
   "metadata": {},
   "source": [
    "#### 2.2. Remove Duplicates"
   ]
  },
  {
   "cell_type": "code",
   "execution_count": 17,
   "metadata": {},
   "outputs": [
    {
     "data": {
      "text/plain": [
       "(1542565, 11)"
      ]
     },
     "execution_count": 17,
     "metadata": {},
     "output_type": "execute_result"
    }
   ],
   "source": [
    "merged_df.drop_duplicates(subset=['clean_text'], inplace=True)\n",
    "merged_df.shape"
   ]
  },
  {
   "cell_type": "code",
   "execution_count": 18,
   "metadata": {},
   "outputs": [
    {
     "name": "stderr",
     "output_type": "stream",
     "text": [
      "C:\\Users\\taha_kms\\AppData\\Local\\Temp\\ipykernel_8684\\3697991262.py:6: FutureWarning: \n",
      "\n",
      "Passing `palette` without assigning `hue` is deprecated and will be removed in v0.14.0. Assign the `x` variable to `hue` and set `legend=False` for the same effect.\n",
      "\n",
      "  ax = sns.countplot(x = 'sentiment', data = merged_df, palette=sns.color_palette(['indianred', 'seagreen'], 2))\n"
     ]
    },
    {
     "data": {
      "image/png": "[encoded data removed]",
      "text/plain": [
       "<Figure size 600x400 with 1 Axes>"
      ]
     },
     "metadata": {},
     "output_type": "display_data"
    }
   ],
   "source": [
    "# compute distribution percentages\n",
    "pos_perc = 100 * merged_df[merged_df['sentiment'] == 1].size / merged_df.size\n",
    "neg_perc = 100 - pos_perc\n",
    "\n",
    "fig, ax = plt.subplots(figsize=(6, 4))\n",
    "ax = sns.countplot(x = 'sentiment', data = merged_df, palette=sns.color_palette(['indianred', 'seagreen'], 2))\n",
    "\n",
    "ax.set_ylabel('Num of tweet')\n",
    "ax.set_xlabel('Sentiment label')\n",
    "# ax.set_title('Distribution of sentiment')\n",
    "ax.legend(handles=ax.patches, labels=(f'negative: {neg_perc:.1f}%', f'positive: {pos_perc:.1f}%'))\n",
    "# plt.savefig('img/DistributionOfSentiment.svg', bbox_inches=\"tight\")\n",
    "plt.show()"
   ]
  },
  {
   "cell_type": "markdown",
   "metadata": {},
   "source": [
    "#### 2.3. Inject Extra Info Input"
   ]
  },
  {
   "cell_type": "code",
   "execution_count": 19,
   "metadata": {},
   "outputs": [],
   "source": [
    "def extract_emojis(text):\n",
    "    return [c for c in text if c in emoji.EMOJI_DATA]\n",
    "\n",
    "\n",
    "def enrich_text_with_meta(row):\n",
    "    emojis = extract_emojis(row['text'])\n",
    "    emoji_str = ' '.join(emojis) if emojis else 'no_emoji'\n",
    "    return f\"[DOW={row['weekday']}] [DOM={row['day']}] [MOY={row['month']}] [TIME={row['hour']}] [EMOJI={emoji_str}] {row['clean_text']}\"\n"
   ]
  },
  {
   "cell_type": "code",
   "execution_count": 20,
   "metadata": {},
   "outputs": [],
   "source": [
    "merged_df[\"enrich_text\"] = merged_df.apply(enrich_text_with_meta, axis=1)"
   ]
  },
  {
   "cell_type": "code",
   "execution_count": 21,
   "metadata": {},
   "outputs": [],
   "source": [
    "merged_df.to_csv(\"Dataset/merged_output_cleaned.csv\", index=False)"
   ]
  },
  {
   "cell_type": "code",
   "execution_count": 35,
   "metadata": {},
   "outputs": [
    {
     "data": {
      "image/png": "[encoded data removed]",
      "text/plain": [
       "<Figure size 1000x600 with 1 Axes>"
      ]
     },
     "metadata": {},
     "output_type": "display_data"
    }
   ],
   "source": [
    "char_lengths = merged_df[\"enrich_text\"].str.len()\n",
    "\n",
    "\n",
    "import matplotlib.pyplot as plt\n",
    "\n",
    "plt.figure(figsize=(10, 6))\n",
    "plt.hist(char_lengths, bins=50, color='skyblue', edgecolor='black')\n",
    "plt.title(\"Distribution of Tweet Lengths (in Tokens)\")\n",
    "plt.xlabel(\"Number of Tokens\")\n",
    "plt.ylabel(\"Number of Tweets\")\n",
    "plt.grid(True)\n",
    "plt.show()\n"
   ]
  },
  {
   "cell_type": "markdown",
   "metadata": {},
   "source": [
    "#### 2.4. Tokenizing the Text\n",
    "\n",
    "Since we're working with tweets, **domain-specific models** perform much better than generic ones like `vinai/bertweet-base` which are best for social media, emoji-aware inputs"
   ]
  },
  {
   "cell_type": "code",
   "execution_count": 33,
   "metadata": {},
   "outputs": [
    {
     "name": "stderr",
     "output_type": "stream",
     "text": [
      "c:\\Users\\taha_kms\\AppData\\Local\\Programs\\Python\\Python39\\lib\\site-packages\\transformers\\tokenization_utils_base.py:1601: FutureWarning: `clean_up_tokenization_spaces` was not set. It will be set to `True` by default. This behavior will be depracted in transformers v4.45, and will be then set to `False` by default. For more details check this issue: https://github.com/huggingface/transformers/issues/31884\n",
      "  warnings.warn(\n"
     ]
    }
   ],
   "source": [
    "tokenizer = AutoTokenizer.from_pretrained(\"vinai/bertweet-base\", normalization=True)"
   ]
  },
  {
   "cell_type": "code",
   "execution_count": null,
   "metadata": {},
   "outputs": [],
   "source": [
    "le = LabelEncoder()\n",
    "labels = le.fit_transform(merged_df[\"sentiment\"])\n",
    "labels_tensor = torch.tensor(labels)\n",
    "\n",
    "texts = merged_df[\"enrich_text\"].tolist()"
   ]
  },
  {
   "cell_type": "code",
   "execution_count": 37,
   "metadata": {},
   "outputs": [
    {
     "name": "stderr",
     "output_type": "stream",
     "text": [
      "100%|██████████| 155/155 [12:44<00:00,  4.93s/it]\n"
     ]
    }
   ],
   "source": [
    "# Storage for batches\n",
    "input_ids_list = []\n",
    "attention_mask_list = []\n",
    "batch_size = 10000\n",
    "\n",
    "for i in tqdm(range(0, len(texts), batch_size)):\n",
    "    batch_texts = texts[i:i+batch_size]\n",
    "    \n",
    "    batch_tokens = tokenizer(\n",
    "        batch_texts,\n",
    "        padding='max_length',\n",
    "        truncation=True,\n",
    "        max_length=200,\n",
    "        return_tensors='pt'\n",
    "    )\n",
    "    \n",
    "    input_ids_list.append(batch_tokens[\"input_ids\"])\n",
    "    attention_mask_list.append(batch_tokens[\"attention_mask\"])\n"
   ]
  },
  {
   "cell_type": "code",
   "execution_count": 38,
   "metadata": {},
   "outputs": [],
   "source": [
    "\n",
    "# Concatenate all batches\n",
    "input_ids = torch.cat(input_ids_list, dim=0)\n",
    "attention_mask = torch.cat(attention_mask_list, dim=0)\n",
    "\n",
    "# Sanity check\n",
    "assert input_ids.shape[0] == labels.shape[0]\n"
   ]
  },
  {
   "cell_type": "code",
   "execution_count": 39,
   "metadata": {},
   "outputs": [],
   "source": [
    "\n",
    "# Optional: Save to disk\n",
    "torch.save({\n",
    "    \"input_ids\": input_ids,\n",
    "    \"attention_mask\": attention_mask,\n",
    "    \"labels\": labels,\n",
    "    \"label_encoder\": le\n",
    "}, \"bertweet_tokenized_dataset.pt\")"
   ]
  }
 ],
 "metadata": {
  "kernelspec": {
   "display_name": "Python 3",
   "language": "python",
   "name": "python3"
  },
  "language_info": {
   "codemirror_mode": {
    "name": "ipython",
    "version": 3
   },
   "file_extension": ".py",
   "mimetype": "text/x-python",
   "name": "python",
   "nbconvert_exporter": "python",
   "pygments_lexer": "ipython3",
   "version": "3.9.13"
  }
 },
 "nbformat": 4,
 "nbformat_minor": 2
}
