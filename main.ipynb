{
 "cells": [
  {
   "cell_type": "code",
   "execution_count": 20,
   "metadata": {},
   "outputs": [],
   "source": [
    "import pandas as pd\n",
    "import numpy as np\n",
    "import seaborn as sns\n",
    "from matplotlib import pyplot as plt"
   ]
  },
  {
   "cell_type": "code",
   "execution_count": 2,
   "metadata": {},
   "outputs": [
    {
     "name": "stderr",
     "output_type": "stream",
     "text": [
      "C:\\Users\\taha_kms\\AppData\\Local\\Temp\\ipykernel_6840\\1693559249.py:2: FutureWarning: The argument 'infer_datetime_format' is deprecated and will be removed in a future version. A strict version of it is now the default, see https://pandas.pydata.org/pdeps/0004-consistent-to-datetime-parsing.html. You can safely remove this argument.\n",
      "  kaggle_dataset = pd.read_csv('Dataset/kaggleDataset.csv', infer_datetime_format=True, parse_dates=[\"date\"])\n",
      "C:\\Users\\taha_kms\\AppData\\Local\\Temp\\ipykernel_6840\\1693559249.py:2: FutureWarning: Parsed string \"Mon Apr 06 22:19:45 PDT 2009\" included an un-recognized timezone \"PDT\". Dropping unrecognized timezones is deprecated; in a future version this will raise. Instead pass the string without the timezone, then use .tz_localize to convert to a recognized timezone.\n",
      "  kaggle_dataset = pd.read_csv('Dataset/kaggleDataset.csv', infer_datetime_format=True, parse_dates=[\"date\"])\n",
      "C:\\Users\\taha_kms\\AppData\\Local\\Temp\\ipykernel_6840\\1693559249.py:3: FutureWarning: The argument 'infer_datetime_format' is deprecated and will be removed in a future version. A strict version of it is now the default, see https://pandas.pydata.org/pdeps/0004-consistent-to-datetime-parsing.html. You can safely remove this argument.\n",
      "  polito_dataset = pd.read_csv('Dataset/politoDataset.csv', infer_datetime_format=True, parse_dates=[\"date\"])\n",
      "C:\\Users\\taha_kms\\AppData\\Local\\Temp\\ipykernel_6840\\1693559249.py:3: FutureWarning: Parsed string \"Mon Jun 01 13:44:19 PDT 2009\" included an un-recognized timezone \"PDT\". Dropping unrecognized timezones is deprecated; in a future version this will raise. Instead pass the string without the timezone, then use .tz_localize to convert to a recognized timezone.\n",
      "  polito_dataset = pd.read_csv('Dataset/politoDataset.csv', infer_datetime_format=True, parse_dates=[\"date\"])\n"
     ]
    }
   ],
   "source": [
    "# Step 1: Load both CSV files\n",
    "kaggle_dataset = pd.read_csv('Dataset/kaggleDataset.csv', infer_datetime_format=True, parse_dates=[\"date\"])\n",
    "polito_dataset = pd.read_csv('Dataset/politoDataset.csv', infer_datetime_format=True, parse_dates=[\"date\"])"
   ]
  },
  {
   "cell_type": "code",
   "execution_count": 9,
   "metadata": {},
   "outputs": [],
   "source": [
    "# Step 2: Replace id == 4 with 1 in df1\n",
    "kaggle_dataset['sentiment'] = kaggle_dataset['sentiment'].replace(4, 1)"
   ]
  },
  {
   "cell_type": "code",
   "execution_count": 10,
   "metadata": {},
   "outputs": [
    {
     "data": {
      "text/html": [
       "<div>\n",
       "<style scoped>\n",
       "    .dataframe tbody tr th:only-of-type {\n",
       "        vertical-align: middle;\n",
       "    }\n",
       "\n",
       "    .dataframe tbody tr th {\n",
       "        vertical-align: top;\n",
       "    }\n",
       "\n",
       "    .dataframe thead th {\n",
       "        text-align: right;\n",
       "    }\n",
       "</style>\n",
       "<table border=\"1\" class=\"dataframe\">\n",
       "  <thead>\n",
       "    <tr style=\"text-align: right;\">\n",
       "      <th></th>\n",
       "      <th>sentiment</th>\n",
       "      <th>ids</th>\n",
       "      <th>date</th>\n",
       "      <th>flag</th>\n",
       "      <th>user</th>\n",
       "      <th>text</th>\n",
       "    </tr>\n",
       "  </thead>\n",
       "  <tbody>\n",
       "    <tr>\n",
       "      <th>0</th>\n",
       "      <td>0</td>\n",
       "      <td>1467810369</td>\n",
       "      <td>2009-04-06 22:19:45</td>\n",
       "      <td>NO_QUERY</td>\n",
       "      <td>_TheSpecialOne_</td>\n",
       "      <td>@switchfoot http://twitpic.com/2y1zl - Awww, t...</td>\n",
       "    </tr>\n",
       "    <tr>\n",
       "      <th>1</th>\n",
       "      <td>0</td>\n",
       "      <td>1467810672</td>\n",
       "      <td>2009-04-06 22:19:49</td>\n",
       "      <td>NO_QUERY</td>\n",
       "      <td>scotthamilton</td>\n",
       "      <td>is upset that he can't update his Facebook by ...</td>\n",
       "    </tr>\n",
       "    <tr>\n",
       "      <th>2</th>\n",
       "      <td>0</td>\n",
       "      <td>1467810917</td>\n",
       "      <td>2009-04-06 22:19:53</td>\n",
       "      <td>NO_QUERY</td>\n",
       "      <td>mattycus</td>\n",
       "      <td>@Kenichan I dived many times for the ball. Man...</td>\n",
       "    </tr>\n",
       "    <tr>\n",
       "      <th>3</th>\n",
       "      <td>0</td>\n",
       "      <td>1467811184</td>\n",
       "      <td>2009-04-06 22:19:57</td>\n",
       "      <td>NO_QUERY</td>\n",
       "      <td>ElleCTF</td>\n",
       "      <td>my whole body feels itchy and like its on fire</td>\n",
       "    </tr>\n",
       "    <tr>\n",
       "      <th>4</th>\n",
       "      <td>0</td>\n",
       "      <td>1467811193</td>\n",
       "      <td>2009-04-06 22:19:57</td>\n",
       "      <td>NO_QUERY</td>\n",
       "      <td>Karoli</td>\n",
       "      <td>@nationwideclass no, it's not behaving at all....</td>\n",
       "    </tr>\n",
       "  </tbody>\n",
       "</table>\n",
       "</div>"
      ],
      "text/plain": [
       "   sentiment         ids                date      flag             user  \\\n",
       "0          0  1467810369 2009-04-06 22:19:45  NO_QUERY  _TheSpecialOne_   \n",
       "1          0  1467810672 2009-04-06 22:19:49  NO_QUERY    scotthamilton   \n",
       "2          0  1467810917 2009-04-06 22:19:53  NO_QUERY         mattycus   \n",
       "3          0  1467811184 2009-04-06 22:19:57  NO_QUERY          ElleCTF   \n",
       "4          0  1467811193 2009-04-06 22:19:57  NO_QUERY           Karoli   \n",
       "\n",
       "                                                text  \n",
       "0  @switchfoot http://twitpic.com/2y1zl - Awww, t...  \n",
       "1  is upset that he can't update his Facebook by ...  \n",
       "2  @Kenichan I dived many times for the ball. Man...  \n",
       "3    my whole body feels itchy and like its on fire   \n",
       "4  @nationwideclass no, it's not behaving at all....  "
      ]
     },
     "execution_count": 10,
     "metadata": {},
     "output_type": "execute_result"
    }
   ],
   "source": [
    "kaggle_dataset.head()"
   ]
  },
  {
   "cell_type": "code",
   "execution_count": 11,
   "metadata": {},
   "outputs": [],
   "source": [
    "polito_dataset.rename(columns={'sent_lable': 'sentiment'}, inplace=True)\n",
    "kaggle_dataset.rename(columns={'tweet': 'text'}, inplace=True)"
   ]
  },
  {
   "cell_type": "code",
   "execution_count": 12,
   "metadata": {},
   "outputs": [
    {
     "data": {
      "text/plain": [
       "(Index(['sentiment', 'ids', 'date', 'flag', 'user', 'text'], dtype='object'),\n",
       " Index(['sentiment', 'ids', 'date', 'flag', 'user', 'text'], dtype='object'))"
      ]
     },
     "execution_count": 12,
     "metadata": {},
     "output_type": "execute_result"
    }
   ],
   "source": [
    "kaggle_dataset.columns, polito_dataset.columns"
   ]
  },
  {
   "cell_type": "code",
   "execution_count": 13,
   "metadata": {},
   "outputs": [],
   "source": [
    "\n",
    "# Step 3: Concatenate the two DataFrames\n",
    "merged_df = pd.concat([polito_dataset, kaggle_dataset], ignore_index=True)\n",
    "\n",
    "# Step 4: Save the result to a new CSV\n",
    "merged_df.to_csv(\"Dataset/merged_output.csv\", index=False)"
   ]
  },
  {
   "cell_type": "markdown",
   "metadata": {},
   "source": [
    "### 1. Data Exploration\n"
   ]
  },
  {
   "cell_type": "code",
   "execution_count": 14,
   "metadata": {},
   "outputs": [
    {
     "data": {
      "text/plain": [
       "(array([1, 0], dtype=int64), (1779995, 6))"
      ]
     },
     "execution_count": 14,
     "metadata": {},
     "output_type": "execute_result"
    }
   ],
   "source": [
    "merged_df['sentiment'].unique(), merged_df.shape"
   ]
  },
  {
   "cell_type": "code",
   "execution_count": 15,
   "metadata": {},
   "outputs": [
    {
     "name": "stdout",
     "output_type": "stream",
     "text": [
      "<class 'pandas.core.frame.DataFrame'>\n",
      "RangeIndex: 1779995 entries, 0 to 1779994\n",
      "Data columns (total 6 columns):\n",
      " #   Column     Dtype         \n",
      "---  ------     -----         \n",
      " 0   sentiment  int64         \n",
      " 1   ids        int64         \n",
      " 2   date       datetime64[ns]\n",
      " 3   flag       object        \n",
      " 4   user       object        \n",
      " 5   text       object        \n",
      "dtypes: datetime64[ns](1), int64(2), object(3)\n",
      "memory usage: 81.5+ MB\n"
     ]
    }
   ],
   "source": [
    "merged_df.info()"
   ]
  },
  {
   "cell_type": "code",
   "execution_count": 16,
   "metadata": {},
   "outputs": [
    {
     "data": {
      "text/html": [
       "<div>\n",
       "<style scoped>\n",
       "    .dataframe tbody tr th:only-of-type {\n",
       "        vertical-align: middle;\n",
       "    }\n",
       "\n",
       "    .dataframe tbody tr th {\n",
       "        vertical-align: top;\n",
       "    }\n",
       "\n",
       "    .dataframe thead th {\n",
       "        text-align: right;\n",
       "    }\n",
       "</style>\n",
       "<table border=\"1\" class=\"dataframe\">\n",
       "  <thead>\n",
       "    <tr style=\"text-align: right;\">\n",
       "      <th></th>\n",
       "      <th>sentiment</th>\n",
       "      <th>ids</th>\n",
       "      <th>date</th>\n",
       "      <th>flag</th>\n",
       "      <th>user</th>\n",
       "      <th>text</th>\n",
       "      <th>hour</th>\n",
       "      <th>weekday</th>\n",
       "      <th>month</th>\n",
       "      <th>day</th>\n",
       "    </tr>\n",
       "  </thead>\n",
       "  <tbody>\n",
       "    <tr>\n",
       "      <th>0</th>\n",
       "      <td>1</td>\n",
       "      <td>1995592655</td>\n",
       "      <td>2009-06-01 13:44:19</td>\n",
       "      <td>NO_QUERY</td>\n",
       "      <td>carlincomm</td>\n",
       "      <td>@krclaypool Sure  I'd be glad to! http://bit.l...</td>\n",
       "      <td>13</td>\n",
       "      <td>0</td>\n",
       "      <td>6</td>\n",
       "      <td>1</td>\n",
       "    </tr>\n",
       "    <tr>\n",
       "      <th>1</th>\n",
       "      <td>0</td>\n",
       "      <td>1992268865</td>\n",
       "      <td>2009-06-01 08:28:41</td>\n",
       "      <td>NO_QUERY</td>\n",
       "      <td>FootyGirl88</td>\n",
       "      <td>I still can't find my phone, I NEED that phone...</td>\n",
       "      <td>8</td>\n",
       "      <td>0</td>\n",
       "      <td>6</td>\n",
       "      <td>1</td>\n",
       "    </tr>\n",
       "    <tr>\n",
       "      <th>2</th>\n",
       "      <td>1</td>\n",
       "      <td>2047074239</td>\n",
       "      <td>2009-06-05 13:06:42</td>\n",
       "      <td>NO_QUERY</td>\n",
       "      <td>fryfan20</td>\n",
       "      <td>Have taken a shower, didn't calm but did clean...</td>\n",
       "      <td>13</td>\n",
       "      <td>4</td>\n",
       "      <td>6</td>\n",
       "      <td>5</td>\n",
       "    </tr>\n",
       "    <tr>\n",
       "      <th>3</th>\n",
       "      <td>1</td>\n",
       "      <td>1976075552</td>\n",
       "      <td>2009-05-30 16:31:55</td>\n",
       "      <td>NO_QUERY</td>\n",
       "      <td>luvinmesomed</td>\n",
       "      <td>@JKDW4ever OMG!! those were great!!! I freakin...</td>\n",
       "      <td>16</td>\n",
       "      <td>5</td>\n",
       "      <td>5</td>\n",
       "      <td>30</td>\n",
       "    </tr>\n",
       "    <tr>\n",
       "      <th>4</th>\n",
       "      <td>0</td>\n",
       "      <td>1981978321</td>\n",
       "      <td>2009-05-31 10:16:44</td>\n",
       "      <td>NO_QUERY</td>\n",
       "      <td>babybunny1987</td>\n",
       "      <td>@EvoOba noooo chinese foot  it was closed.but ...</td>\n",
       "      <td>10</td>\n",
       "      <td>6</td>\n",
       "      <td>5</td>\n",
       "      <td>31</td>\n",
       "    </tr>\n",
       "  </tbody>\n",
       "</table>\n",
       "</div>"
      ],
      "text/plain": [
       "   sentiment         ids                date      flag           user  \\\n",
       "0          1  1995592655 2009-06-01 13:44:19  NO_QUERY     carlincomm   \n",
       "1          0  1992268865 2009-06-01 08:28:41  NO_QUERY    FootyGirl88   \n",
       "2          1  2047074239 2009-06-05 13:06:42  NO_QUERY       fryfan20   \n",
       "3          1  1976075552 2009-05-30 16:31:55  NO_QUERY   luvinmesomed   \n",
       "4          0  1981978321 2009-05-31 10:16:44  NO_QUERY  babybunny1987   \n",
       "\n",
       "                                                text  hour  weekday  month  \\\n",
       "0  @krclaypool Sure  I'd be glad to! http://bit.l...    13        0      6   \n",
       "1  I still can't find my phone, I NEED that phone...     8        0      6   \n",
       "2  Have taken a shower, didn't calm but did clean...    13        4      6   \n",
       "3  @JKDW4ever OMG!! those were great!!! I freakin...    16        5      5   \n",
       "4  @EvoOba noooo chinese foot  it was closed.but ...    10        6      5   \n",
       "\n",
       "   day  \n",
       "0    1  \n",
       "1    1  \n",
       "2    5  \n",
       "3   30  \n",
       "4   31  "
      ]
     },
     "execution_count": 16,
     "metadata": {},
     "output_type": "execute_result"
    }
   ],
   "source": [
    "# creation column of hour, weekday, month from date\n",
    "merged_df[\"hour\"] = merged_df[\"date\"].apply(lambda x: x.hour)\n",
    "merged_df[\"weekday\"] = merged_df[\"date\"].apply(lambda x: x.weekday())\n",
    "merged_df[\"month\"] = merged_df[\"date\"].apply(lambda x: x.month)\n",
    "merged_df[\"day\"] = merged_df[\"date\"].apply(lambda x: x.day)\n",
    "\n",
    "\n",
    "merged_df.head()"
   ]
  },
  {
   "cell_type": "code",
   "execution_count": 19,
   "metadata": {},
   "outputs": [
    {
     "name": "stderr",
     "output_type": "stream",
     "text": [
      "C:\\Users\\taha_kms\\AppData\\Local\\Temp\\ipykernel_6840\\493352662.py:15: UserWarning: set_ticklabels() should only be used with a fixed number of ticks, i.e. after set_ticks() or using a FixedLocator.\n",
      "  axs[1].set_xticklabels([\"void\", \"Mon\", \"Tue\", \"Wen\", \"Thu\", \"Fri\", \"Sat\", \"Sun\"])\n"
     ]
    },
    {
     "data": {
      "image/png": "[encoded data removed]",
      "text/plain": [
       "<Figure size 800x1000 with 3 Axes>"
      ]
     },
     "metadata": {},
     "output_type": "display_data"
    }
   ],
   "source": [
    "# plt.figure(figsize=(6,12))\n",
    "fig, axs = plt.subplots(3, figsize=(8,10))\n",
    "\n",
    "fig.tight_layout(pad=2)\n",
    "axs[0].hist((merged_df[merged_df['sentiment'] == 1][\"hour\"], merged_df[merged_df['sentiment'] == 0][\"hour\"]),  bins=np.arange(25)-0.5, label=['positive', 'negative'], color=['seagreen', 'indianred'])\n",
    "axs[1].hist((merged_df[merged_df['sentiment'] == 1][\"weekday\"], merged_df[merged_df['sentiment'] == 0][\"weekday\"]),  bins=np.arange(8)-0.5, label=['positive', 'negative'], color=['seagreen', 'indianred'])\n",
    "axs[2].hist((merged_df[merged_df['sentiment'] == 1][\"month\"], merged_df[merged_df['sentiment'] == 0][\"month\"]),  bins=3, label=['positive', 'negative'], color=['seagreen', 'indianred'])\n",
    "# np.arange(4,8)-0.5\n",
    "axs[0].set_title(\"Hour of day\")\n",
    "axs[1].set_title(\"Weekday\")\n",
    "axs[2].set_title(\"Month\")\n",
    "\n",
    "axs[0].set_xticks(np.arange(0, 23, 4))\n",
    "\n",
    "axs[1].set_xticklabels([\"void\", \"Mon\", \"Tue\", \"Wen\", \"Thu\", \"Fri\", \"Sat\", \"Sun\"])\n",
    "\n",
    "axs[2].set_xticks([4.33,5,5.66])\n",
    "axs[2].set_xticklabels([\"April\", \"May\", \"June\"])\n",
    "axs[2].legend(loc='upper left')    \n",
    "\n",
    "plt.savefig(\"dateDistributionHour.svg\")"
   ]
  },
  {
   "cell_type": "code",
   "execution_count": 30,
   "metadata": {},
   "outputs": [
    {
     "name": "stderr",
     "output_type": "stream",
     "text": [
      "C:\\Users\\taha_kms\\AppData\\Local\\Temp\\ipykernel_6840\\2053872652.py:6: FutureWarning: \n",
      "\n",
      "Passing `palette` without assigning `hue` is deprecated and will be removed in v0.14.0. Assign the `x` variable to `hue` and set `legend=False` for the same effect.\n",
      "\n",
      "  ax = sns.countplot(x = 'sentiment', data = merged_df, #color=['red', 'green'])\n"
     ]
    },
    {
     "data": {
      "image/png": "[encoded data removed]",
      "text/plain": [
       "<Figure size 600x400 with 1 Axes>"
      ]
     },
     "metadata": {},
     "output_type": "display_data"
    }
   ],
   "source": [
    "\n",
    "# compute distribution percentages\n",
    "pos_perc = 100 * merged_df[merged_df['sentiment'] == 1].size / merged_df.size\n",
    "neg_perc = 100 - pos_perc\n",
    "\n",
    "fig, ax = plt.subplots(figsize=(6, 4))\n",
    "ax = sns.countplot(x = 'sentiment', data = merged_df, #color=['red', 'green'])\n",
    "              palette=sns.color_palette(['indianred', 'seagreen'], 2))\n",
    "ax.set_ylabel('Num of tweet')\n",
    "ax.set_xlabel('Sentiment label')\n",
    "# ax.set_title('Distribution of sentiment')\n",
    "ax.legend(handles=ax.patches, labels=(f'negative: {neg_perc:.1f}%', f'positive: {pos_perc:.1f}%'))\n",
    "plt.savefig('DistributionOfSentiment.svg', bbox_inches=\"tight\")\n",
    "plt.show()"
   ]
  },
  {
   "cell_type": "markdown",
   "metadata": {},
   "source": [
    "### 2. Data Preprocessing"
   ]
  },
  {
   "cell_type": "code",
   "execution_count": 31,
   "metadata": {},
   "outputs": [],
   "source": [
    "import re"
   ]
  },
  {
   "cell_type": "code",
   "execution_count": 32,
   "metadata": {},
   "outputs": [],
   "source": [
    "def preprocess_for_transformers(text):\n",
    "    text = text.lower()\n",
    "    text = re.sub(r'https?://\\S+', '', text)  # remove URLs\n",
    "    text = re.sub(r'@\\w+', '', text)  # remove @mentions\n",
    "    text = re.sub(r'#(\\w+)', r'\\1', text)  # remove # but keep the word\n",
    "    text = re.sub(r'[^\\x00-\\x7F]+', '', text)  # remove non-ASCII\n",
    "    text = re.sub(r'\\s+', ' ', text).strip()\n",
    "    return text"
   ]
  },
  {
   "cell_type": "code",
   "execution_count": 33,
   "metadata": {},
   "outputs": [],
   "source": [
    "merged_df[\"clean_text\"] = merged_df[\"text\"].astype(str).apply(preprocess_for_transformers)"
   ]
  },
  {
   "cell_type": "code",
   "execution_count": null,
   "metadata": {},
   "outputs": [],
   "source": [
    "merged_df.to_csv(\"Dataset/merged_output_clean.csv\", index=False)"
   ]
  }
 ],
 "metadata": {
  "kernelspec": {
   "display_name": "Python 3",
   "language": "python",
   "name": "python3"
  },
  "language_info": {
   "codemirror_mode": {
    "name": "ipython",
    "version": 3
   },
   "file_extension": ".py",
   "mimetype": "text/x-python",
   "name": "python",
   "nbconvert_exporter": "python",
   "pygments_lexer": "ipython3",
   "version": "3.9.13"
  }
 },
 "nbformat": 4,
 "nbformat_minor": 2
}
